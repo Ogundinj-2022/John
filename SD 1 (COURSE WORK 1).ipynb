{
 "cells": [
  {
   "cell_type": "code",
   "execution_count": 1,
   "id": "cc7f81e5",
   "metadata": {},
   "outputs": [],
   "source": [
    "# BODY MASS INDEX CALCULATOR\n",
    "# NAME: JOHN OLUBUSAYO OGUNDINA\n",
    "# STUDENT ID: OGU20505601\n",
    "# DATE OF LAST UPDATE: 27/10/2017\n",
    "# QUESTON: Calculating Body Mass Index (BMI). BMI is a common method used to assess body weight relative to height. The World\n",
    "#          Health Organization (WHO) regards a BMI of less than 18.5 as underweight and may indicate malnutrition, an eating\n",
    "#           disorder, or other health problems, while a BMI equal to or greater than 25 is considered overweight and above 30 is\n",
    "#           considered obese.\n"
   ]
  },
  {
   "cell_type": "code",
   "execution_count": null,
   "id": "ad89e4f7",
   "metadata": {},
   "outputs": [],
   "source": [
    "# This programs calculate the Body Mass index of a user using either a metric or imperial measurement system\n",
    "\n",
    "measurement_system = input('enter a prefered measurement system: ')\n",
    "if measurement_system == 'metric':\n",
    "    try:\n",
    "# Calculate the Body Mass index using the Metric Formular\n",
    "        height = float(input(\"enter height in meters: \"))\n",
    "        weight = float(input(\"enter weight in kg: \"))\n",
    "        body_mass_index1 = round((weight/(height*height)), 2)\n",
    "        print(body_mass_index1)\n",
    "# This is a nested loop and it  states whether the user is underweight, healthy, overweight or obese\n",
    "        if body_mass_index1 < 18.5:\n",
    "            print(\"According to WHO's categorization, this user is underweight\")\n",
    "        elif body_mass_index1 == 18.5 or body_mass_index1 < 25.0:\n",
    "            print(\"According to WHO's categorization, this user is healthy\")\n",
    "        elif body_mass_index1 == 25.0 or body_mass_index1 < 29.9:\n",
    "            print(\"According to WHO's categorization, this user is overweight\")\n",
    "        elif body_mass_index1 >= 30:\n",
    "            print(\"According to WHO's categorization, this user is obese\")\n",
    "    except:\n",
    "        print('Error! Unidentified measurement system. Please enter a number')\n",
    "        quit() \n",
    "\n",
    "\n",
    "\n",
    "\n"
   ]
  },
  {
   "cell_type": "code",
   "execution_count": null,
   "id": "6f6576b1",
   "metadata": {},
   "outputs": [],
   "source": [
    "\n",
    "if measurement_system == 'imperial':\n",
    "    try:\n",
    "# Calculate the Body Mass index using the Imperial Formular\n",
    "        height = float(input(\"enter height in inches: \"))\n",
    "        weight = float(input(\"enter weight in pounds: \"))\n",
    "        body_masss_index2 = round((weight/(height*height))*703, 2)\n",
    "        print(body_masss_index) \n",
    "# This is a nested loop and it states whether the user is underweight, healthy, overweight or obese\n",
    "        if body_mass_index2 < 18.5:\n",
    "            print(\"According to WHO's categorization, this user is underweight\")\n",
    "        elif body_mass_index2 == 18.5 or body_mass_index1 < 25.0:\n",
    "            print(\"According to WHO's categorization, this user is healthy\")\n",
    "        elif body_mass_index2 == 25.0 or body_mass_index1 < 29.9:\n",
    "            print(\"According to WHO's categorization, this user is overweight\")\n",
    "        elif body_mass_index2 >= 30:\n",
    "            print(\"According to WHO's categorization, this user is obese\")\n",
    "    except:\n",
    "        print('Error! Unidentified measurement system. Please enter a number')\n",
    "        quit()\n",
    "    \n",
    "            "
   ]
  },
  {
   "cell_type": "code",
   "execution_count": null,
   "id": "c9a74116",
   "metadata": {},
   "outputs": [],
   "source": []
  }
 ],
 "metadata": {
  "kernelspec": {
   "display_name": "Python 3",
   "language": "python",
   "name": "python3"
  },
  "language_info": {
   "codemirror_mode": {
    "name": "ipython",
    "version": 3
   },
   "file_extension": ".py",
   "mimetype": "text/x-python",
   "name": "python",
   "nbconvert_exporter": "python",
   "pygments_lexer": "ipython3",
   "version": "3.8.8"
  }
 },
 "nbformat": 4,
 "nbformat_minor": 5
}
